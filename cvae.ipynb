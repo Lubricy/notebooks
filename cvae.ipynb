{
  "nbformat": 4,
  "nbformat_minor": 0,
  "metadata": {
    "colab": {
      "name": "Untitled0.ipynbmp",
      "provenance": [],
      "include_colab_link": true
    },
    "kernelspec": {
      "name": "python3",
      "display_name": "Python 3"
    },
    "accelerator": "GPU"
  },
  "cells": [
    {
      "cell_type": "markdown",
      "metadata": {
        "id": "view-in-github",
        "colab_type": "text"
      },
      "source": [
        "<a href=\"https://colab.research.google.com/github/Lubricy/notebooks/blob/master/cvae.ipynb\" target=\"_parent\"><img src=\"https://colab.research.google.com/assets/colab-badge.svg\" alt=\"Open In Colab\"/></a>"
      ]
    },
    {
      "cell_type": "code",
      "metadata": {
        "id": "pNUmnEKVaKBT",
        "colab_type": "code",
        "colab": {
          "base_uri": "https://localhost:8080/",
          "height": 525
        },
        "outputId": "7e1dc089-2cc7-46a1-a776-192f4160b76a"
      },
      "source": [
        "%tensorflow_version 2.x\n",
        "!pip install --upgrade tensorflow_probability\n",
        "import tensorflow as tf\n",
        "import tensorflow_probability as tfp\n",
        "import numpy as np\n",
        "import matplotlib.pyplot as plt\n",
        "from tensorflow.keras import layers\n",
        "\n",
        "print(tf.version.VERSION)\n",
        "print(tfp.python.version.__version__)\n",
        "print(tf.test.gpu_device_name())"
      ],
      "execution_count": 1,
      "outputs": [
        {
          "output_type": "stream",
          "text": [
            "TensorFlow 2.x selected.\n",
            "Collecting tensorflow_probability\n",
            "\u001b[?25l  Downloading https://files.pythonhosted.org/packages/f8/72/29ef1e5f386b65544d4e7002dfeca1e55b099ed182cd6d405c21a19ae259/tensorflow_probability-0.8.0-py2.py3-none-any.whl (2.5MB)\n",
            "\u001b[K     |████████████████████████████████| 2.5MB 6.6MB/s \n",
            "\u001b[?25hRequirement already satisfied, skipping upgrade: gast<0.3,>=0.2 in /tensorflow-2.1.0/python3.6 (from tensorflow_probability) (0.2.2)\n",
            "Requirement already satisfied, skipping upgrade: six>=1.10.0 in /tensorflow-2.1.0/python3.6 (from tensorflow_probability) (1.13.0)\n",
            "Requirement already satisfied, skipping upgrade: decorator in /usr/local/lib/python3.6/dist-packages (from tensorflow_probability) (4.4.1)\n",
            "Requirement already satisfied, skipping upgrade: numpy>=1.13.3 in /tensorflow-2.1.0/python3.6 (from tensorflow_probability) (1.17.4)\n",
            "Collecting cloudpickle==1.1.1\n",
            "  Downloading https://files.pythonhosted.org/packages/24/fb/4f92f8c0f40a0d728b4f3d5ec5ff84353e705d8ff5e3e447620ea98b06bd/cloudpickle-1.1.1-py2.py3-none-any.whl\n",
            "\u001b[31mERROR: tensor2tensor 1.14.1 has requirement tensorflow-probability==0.7.0, but you'll have tensorflow-probability 0.8.0 which is incompatible.\u001b[0m\n",
            "\u001b[31mERROR: gym 0.15.4 has requirement cloudpickle~=1.2.0, but you'll have cloudpickle 1.1.1 which is incompatible.\u001b[0m\n",
            "Installing collected packages: cloudpickle, tensorflow-probability\n",
            "  Found existing installation: cloudpickle 1.2.2\n",
            "    Uninstalling cloudpickle-1.2.2:\n",
            "      Successfully uninstalled cloudpickle-1.2.2\n",
            "  Found existing installation: tensorflow-probability 0.7.0\n",
            "    Uninstalling tensorflow-probability-0.7.0:\n",
            "      Successfully uninstalled tensorflow-probability-0.7.0\n",
            "Successfully installed cloudpickle-1.1.1 tensorflow-probability-0.8.0\n"
          ],
          "name": "stdout"
        },
        {
          "output_type": "display_data",
          "data": {
            "application/vnd.colab-display-data+json": {
              "pip_warning": {
                "packages": [
                  "cloudpickle"
                ]
              }
            }
          },
          "metadata": {
            "tags": []
          }
        },
        {
          "output_type": "stream",
          "text": [
            "2.1.0-rc1\n",
            "0.8.0\n",
            "/device:GPU:0\n"
          ],
          "name": "stdout"
        }
      ]
    },
    {
      "cell_type": "code",
      "metadata": {
        "id": "zgxrYMJlSxqP",
        "colab_type": "code",
        "colab": {
          "base_uri": "https://localhost:8080/",
          "height": 52
        },
        "outputId": "0070136f-937e-4015-83a0-79b55a94df4c"
      },
      "source": [
        "input_shape=[28,28,1]\n",
        "label_shape=[10]\n",
        "def to_ds(tpl):\n",
        "  img, lbl = tpl\n",
        "  return tf.data.Dataset.from_tensor_slices(tpl).map(\n",
        "      lambda img, lbl: (tf.cast(tf.reshape(img, [28,28,1]), 'float32') / 255., tf.one_hot(lbl, 10)) \n",
        "  ).map(\n",
        "      lambda img, lbl: ((img, lbl), (img,lbl))\n",
        "  ).batch(1000)\n",
        "\n",
        "train_ds, test_ds = map(\n",
        "    to_ds,\n",
        "    tf.keras.datasets.mnist.load_data())"
      ],
      "execution_count": 2,
      "outputs": [
        {
          "output_type": "stream",
          "text": [
            "Downloading data from https://storage.googleapis.com/tensorflow/tf-keras-datasets/mnist.npz\n",
            "11493376/11490434 [==============================] - 0s 0us/step\n"
          ],
          "name": "stdout"
        }
      ]
    },
    {
      "cell_type": "code",
      "metadata": {
        "id": "DKWrxm7OqS6h",
        "colab_type": "code",
        "colab": {
          "base_uri": "https://localhost:8080/",
          "height": 54
        },
        "outputId": "adcc32f2-5b8b-4f78-90d1-2dabdfbf76cd"
      },
      "source": [
        "train_ds"
      ],
      "execution_count": 3,
      "outputs": [
        {
          "output_type": "execute_result",
          "data": {
            "text/plain": [
              "<BatchDataset shapes: (((None, 28, 28, 1), (None, 10)), ((None, 28, 28, 1), (None, 10))), types: ((tf.float32, tf.float32), (tf.float32, tf.float32))>"
            ]
          },
          "metadata": {
            "tags": []
          },
          "execution_count": 3
        }
      ]
    },
    {
      "cell_type": "code",
      "metadata": {
        "id": "MNMeIwTyc0-v",
        "colab_type": "code",
        "colab": {
          "base_uri": "https://localhost:8080/",
          "height": 282
        },
        "outputId": "509d52db-c4ac-456d-fc26-e8959363046e"
      },
      "source": [
        "(img, lbl), _ = next(iter(train_ds))\n",
        "plt.imshow(img[0,:,:,0], cmap='gray')\n",
        "plt.show()\n",
        "print(np.argmax(lbl[0]),\":\" ,lbl[0])"
      ],
      "execution_count": 4,
      "outputs": [
        {
          "output_type": "display_data",
          "data": {
            "image/png": "[encoded data removed]",
            "text/plain": [
              "<Figure size 432x288 with 1 Axes>"
            ]
          },
          "metadata": {
            "tags": []
          }
        },
        {
          "output_type": "stream",
          "text": [
            "5 : tf.Tensor([0. 0. 0. 0. 0. 1. 0. 0. 0. 0.], shape=(10,), dtype=float32)\n"
          ],
          "name": "stdout"
        }
      ]
    },
    {
      "cell_type": "code",
      "metadata": {
        "id": "-7SdAJHdO8tY",
        "colab_type": "code",
        "colab": {}
      },
      "source": [
        "def encoder(z_size, latent_size=10, base_depth=4):\n",
        "  prior = tfp.distributions.Independent(\n",
        "      tfp.distributions.Normal(\n",
        "          loc=tf.zeros(z_size), scale=1),\n",
        "          reinterpreted_batch_ndims=1)\n",
        "  img2vec = tf.keras.Sequential([\n",
        "    tf.keras.layers.InputLayer(input_shape=input_shape),\n",
        "    tf.keras.layers.Lambda(lambda x: tf.cast(x, tf.float32) - 0.5),\n",
        "    tf.keras.layers.Flatten(),\n",
        "    tf.keras.layers.Dense(latent_size * 4, activation='relu'),\n",
        "    tf.keras.layers.Dense(latent_size * 2, activation='relu'),\n",
        "    tf.keras.layers.Dense(latent_size, activation='softmax')\n",
        "  ])\n",
        "  lbl2vec = tf.keras.Sequential([\n",
        "    tf.keras.layers.InputLayer(input_shape=[latent_size]),\n",
        "  ])\n",
        "  \n",
        "  c = tf.keras.layers.concatenate([img2vec.output, lbl2vec.output])\n",
        "  \n",
        "  latent_z = tf.keras.Sequential([\n",
        "      tf.keras.layers.Dense(latent_size, activation='relu'),\n",
        "      tf.keras.layers.Dense(tfp.layers.MultivariateNormalTriL.params_size(z_size)),\n",
        "      tfp.layers.MultivariateNormalTriL(\n",
        "        z_size,\n",
        "        activity_regularizer=tfp.layers.KLDivergenceRegularizer(prior))\n",
        "  ])\n",
        "  \n",
        "  return tf.keras.Model(inputs=[img2vec.input, lbl2vec.input], outputs=latent_z(c))"
      ],
      "execution_count": 0,
      "outputs": []
    },
    {
      "cell_type": "code",
      "metadata": {
        "id": "beEp-eIf_tPj",
        "colab_type": "code",
        "colab": {}
      },
      "source": [
        "def decoder(z_size, latent_size=10, base_depth=4):\n",
        "  img_decoder = tf.keras.Sequential([\n",
        "    tf.keras.layers.Dense(latent_size, activation='relu'),\n",
        "    tf.keras.layers.Dense(latent_size * 2, activation='relu'),\n",
        "    tf.keras.layers.Dense(latent_size * 4, activation='relu'),\n",
        "    tf.keras.layers.Dense(tfp.layers.IndependentBernoulli.params_size(input_shape)),\n",
        "    tfp.layers.IndependentBernoulli(input_shape, tfp.distributions.Bernoulli.logits),\n",
        "  ])\n",
        "  label_decoder = tf.keras.Sequential([\n",
        "    tf.keras.layers.Dense(latent_size, activation='relu'),\n",
        "    tf.keras.layers.Dense(tfp.layers.OneHotCategorical.params_size(label_shape[0])),\n",
        "    tfp.layers.OneHotCategorical(label_shape)\n",
        "  ])\n",
        "  latent_z = tf.keras.layers.Input(shape=[z_size])\n",
        "  return tf.keras.Model(inputs=[latent_z], outputs=[img_decoder(latent_z), label_decoder(latent_z)])"
      ],
      "execution_count": 0,
      "outputs": []
    },
    {
      "cell_type": "code",
      "metadata": {
        "id": "-Z0wYe2k0nN5",
        "colab_type": "code",
        "colab": {}
      },
      "source": [
        "negloglik = lambda x, rv_x: -rv_x.log_prob(x)\n",
        "\n",
        "def vae(latent_size, learning_rate=1e-3):\n",
        "  enc = encoder(latent_size)\n",
        "  dec = decoder(latent_size)\n",
        "\n",
        "  model = tf.keras.Model(inputs=enc.inputs, outputs=dec(enc.outputs))\n",
        "  model.encoder = enc\n",
        "  model.decoder = dec\n",
        "  model.compile(\n",
        "    optimizer=tf.optimizers.Adam(learning_rate=learning_rate),\n",
        "    loss=negloglik)\n",
        "  return model\n"
      ],
      "execution_count": 0,
      "outputs": []
    },
    {
      "cell_type": "code",
      "metadata": {
        "id": "iOU8hnVTtXYr",
        "colab_type": "code",
        "colab": {
          "base_uri": "https://localhost:8080/",
          "height": 1000
        },
        "outputId": "91a37e0b-a003-46d4-c39d-3bd773fe232f"
      },
      "source": [
        "m = vae(10, learning_rate=1e-3)\n",
        "res = m.fit(train_ds, epochs=100, validation_data=test_ds)"
      ],
      "execution_count": 8,
      "outputs": [
        {
          "output_type": "stream",
          "text": [
            "WARNING:tensorflow:From /tensorflow-2.1.0/python3.6/tensorflow_core/python/ops/linalg/linear_operator_lower_triangular.py:158: calling LinearOperator.__init__ (from tensorflow.python.ops.linalg.linear_operator) with graph_parents is deprecated and will be removed in a future version.\n",
            "Instructions for updating:\n",
            "Do not pass `graph_parents`.  They will  no longer be used.\n",
            "Train for 60 steps, validate for 10 steps\n",
            "Epoch 1/100\n",
            "60/60 [==============================] - 9s 157ms/step - loss: 440.3201 - model_1_loss: 433.2725 - model_1_1_loss: 2.3584 - val_loss: 263.6648 - val_model_1_loss: 255.9529 - val_model_1_1_loss: 2.3343\n",
            "Epoch 2/100\n",
            "60/60 [==============================] - 6s 94ms/step - loss: 229.6669 - model_1_loss: 221.6770 - model_1_1_loss: 2.3122 - val_loss: 218.7243 - val_model_1_loss: 211.2040 - val_model_1_1_loss: 2.3001\n",
            "Epoch 3/100\n",
            "60/60 [==============================] - 6s 92ms/step - loss: 217.1160 - model_1_loss: 210.1834 - model_1_1_loss: 2.2954 - val_loss: 215.2358 - val_model_1_loss: 208.8238 - val_model_1_1_loss: 2.2901\n",
            "Epoch 4/100\n",
            "60/60 [==============================] - 6s 92ms/step - loss: 214.1778 - model_1_loss: 208.1405 - model_1_1_loss: 2.2916 - val_loss: 211.8840 - val_model_1_loss: 206.1251 - val_model_1_1_loss: 2.2881\n",
            "Epoch 5/100\n",
            "60/60 [==============================] - 6s 92ms/step - loss: 210.5685 - model_1_loss: 204.8050 - model_1_1_loss: 2.2742 - val_loss: 208.9320 - val_model_1_loss: 203.1077 - val_model_1_1_loss: 2.2582\n",
            "Epoch 6/100\n",
            "60/60 [==============================] - 6s 93ms/step - loss: 208.1938 - model_1_loss: 202.4301 - model_1_1_loss: 2.2343 - val_loss: 207.0014 - val_model_1_loss: 201.4176 - val_model_1_1_loss: 2.2026\n",
            "Epoch 7/100\n",
            "60/60 [==============================] - 5s 91ms/step - loss: 206.4875 - model_1_loss: 200.9085 - model_1_1_loss: 2.1714 - val_loss: 205.5329 - val_model_1_loss: 199.9421 - val_model_1_1_loss: 2.1372\n",
            "Epoch 8/100\n",
            "60/60 [==============================] - 6s 95ms/step - loss: 205.0481 - model_1_loss: 199.4263 - model_1_1_loss: 2.1114 - val_loss: 203.8863 - val_model_1_loss: 198.2764 - val_model_1_1_loss: 2.0948\n",
            "Epoch 9/100\n",
            "60/60 [==============================] - 6s 92ms/step - loss: 203.3202 - model_1_loss: 197.4799 - model_1_1_loss: 2.0626 - val_loss: 202.0644 - val_model_1_loss: 196.0925 - val_model_1_1_loss: 2.0247\n",
            "Epoch 10/100\n",
            "60/60 [==============================] - 6s 96ms/step - loss: 201.8090 - model_1_loss: 195.6474 - model_1_1_loss: 2.0185 - val_loss: 200.9813 - val_model_1_loss: 194.8256 - val_model_1_1_loss: 1.9932\n",
            "Epoch 11/100\n",
            "60/60 [==============================] - 6s 93ms/step - loss: 200.7232 - model_1_loss: 194.3748 - model_1_1_loss: 1.9808 - val_loss: 199.8867 - val_model_1_loss: 193.4391 - val_model_1_1_loss: 1.9609\n",
            "Epoch 12/100\n",
            "60/60 [==============================] - 6s 93ms/step - loss: 199.9882 - model_1_loss: 193.4131 - model_1_1_loss: 1.9516 - val_loss: 199.1692 - val_model_1_loss: 192.5130 - val_model_1_1_loss: 1.9283\n",
            "Epoch 13/100\n",
            "60/60 [==============================] - 6s 96ms/step - loss: 199.4470 - model_1_loss: 192.7605 - model_1_1_loss: 1.9290 - val_loss: 198.6226 - val_model_1_loss: 191.7934 - val_model_1_1_loss: 1.9028\n",
            "Epoch 14/100\n",
            "60/60 [==============================] - 6s 92ms/step - loss: 198.9427 - model_1_loss: 192.1497 - model_1_1_loss: 1.9065 - val_loss: 198.1040 - val_model_1_loss: 191.3108 - val_model_1_1_loss: 1.8832\n",
            "Epoch 15/100\n",
            "60/60 [==============================] - 6s 92ms/step - loss: 198.3555 - model_1_loss: 191.4456 - model_1_1_loss: 1.8825 - val_loss: 197.4355 - val_model_1_loss: 190.4447 - val_model_1_1_loss: 1.8547\n",
            "Epoch 16/100\n",
            "60/60 [==============================] - 6s 95ms/step - loss: 197.6777 - model_1_loss: 190.6425 - model_1_1_loss: 1.8552 - val_loss: 196.8538 - val_model_1_loss: 189.8317 - val_model_1_1_loss: 1.8395\n",
            "Epoch 17/100\n",
            "60/60 [==============================] - 5s 91ms/step - loss: 197.0285 - model_1_loss: 189.8651 - model_1_1_loss: 1.8314 - val_loss: 196.0422 - val_model_1_loss: 188.7655 - val_model_1_1_loss: 1.8061\n",
            "Epoch 18/100\n",
            "60/60 [==============================] - 6s 93ms/step - loss: 196.3295 - model_1_loss: 188.9558 - model_1_1_loss: 1.8053 - val_loss: 195.4645 - val_model_1_loss: 188.1158 - val_model_1_1_loss: 1.7852\n",
            "Epoch 19/100\n",
            "60/60 [==============================] - 5s 91ms/step - loss: 195.7863 - model_1_loss: 188.2504 - model_1_1_loss: 1.7837 - val_loss: 195.0928 - val_model_1_loss: 187.6995 - val_model_1_1_loss: 1.7628\n",
            "Epoch 20/100\n",
            "60/60 [==============================] - 5s 91ms/step - loss: 195.3237 - model_1_loss: 187.6369 - model_1_1_loss: 1.7602 - val_loss: 194.4950 - val_model_1_loss: 186.9427 - val_model_1_1_loss: 1.7300\n",
            "Epoch 21/100\n",
            "60/60 [==============================] - 6s 93ms/step - loss: 194.7327 - model_1_loss: 186.8739 - model_1_1_loss: 1.7250 - val_loss: 193.5581 - val_model_1_loss: 185.3874 - val_model_1_1_loss: 1.6777\n",
            "Epoch 22/100\n",
            "60/60 [==============================] - 6s 94ms/step - loss: 193.6838 - model_1_loss: 185.3025 - model_1_1_loss: 1.6525 - val_loss: 192.1182 - val_model_1_loss: 183.2048 - val_model_1_1_loss: 1.5835\n",
            "Epoch 23/100\n",
            "60/60 [==============================] - 6s 95ms/step - loss: 191.8452 - model_1_loss: 182.4515 - model_1_1_loss: 1.5352 - val_loss: 190.1799 - val_model_1_loss: 180.3602 - val_model_1_1_loss: 1.4635\n",
            "Epoch 24/100\n",
            "60/60 [==============================] - 6s 95ms/step - loss: 190.2609 - model_1_loss: 180.2702 - model_1_1_loss: 1.4536 - val_loss: 188.8349 - val_model_1_loss: 178.7906 - val_model_1_1_loss: 1.4323\n",
            "Epoch 25/100\n",
            "60/60 [==============================] - 5s 91ms/step - loss: 189.4122 - model_1_loss: 179.2364 - model_1_1_loss: 1.4287 - val_loss: 188.0751 - val_model_1_loss: 177.9101 - val_model_1_1_loss: 1.4086\n",
            "Epoch 26/100\n",
            "60/60 [==============================] - 6s 93ms/step - loss: 188.8087 - model_1_loss: 178.4788 - model_1_1_loss: 1.4185 - val_loss: 187.8305 - val_model_1_loss: 177.5055 - val_model_1_1_loss: 1.3935\n",
            "Epoch 27/100\n",
            "60/60 [==============================] - 6s 92ms/step - loss: 188.3316 - model_1_loss: 177.8874 - model_1_1_loss: 1.4093 - val_loss: 187.2104 - val_model_1_loss: 176.7542 - val_model_1_1_loss: 1.3976\n",
            "Epoch 28/100\n",
            "60/60 [==============================] - 5s 91ms/step - loss: 187.9146 - model_1_loss: 177.3602 - model_1_1_loss: 1.4082 - val_loss: 186.8312 - val_model_1_loss: 176.2002 - val_model_1_1_loss: 1.3964\n",
            "Epoch 29/100\n",
            "60/60 [==============================] - 5s 89ms/step - loss: 187.5376 - model_1_loss: 176.8870 - model_1_1_loss: 1.4061 - val_loss: 186.4982 - val_model_1_loss: 175.8440 - val_model_1_1_loss: 1.3819\n",
            "Epoch 30/100\n",
            "60/60 [==============================] - 6s 92ms/step - loss: 187.1466 - model_1_loss: 176.4035 - model_1_1_loss: 1.4054 - val_loss: 186.0714 - val_model_1_loss: 175.1895 - val_model_1_1_loss: 1.3759\n",
            "Epoch 31/100\n",
            "60/60 [==============================] - 5s 89ms/step - loss: 186.6591 - model_1_loss: 175.7410 - model_1_1_loss: 1.3988 - val_loss: 185.6683 - val_model_1_loss: 174.7645 - val_model_1_1_loss: 1.3863\n",
            "Epoch 32/100\n",
            "60/60 [==============================] - 5s 91ms/step - loss: 186.1612 - model_1_loss: 175.1174 - model_1_1_loss: 1.4016 - val_loss: 185.1993 - val_model_1_loss: 174.3021 - val_model_1_1_loss: 1.3949\n",
            "Epoch 33/100\n",
            "60/60 [==============================] - 5s 89ms/step - loss: 185.5865 - model_1_loss: 174.3826 - model_1_1_loss: 1.3958 - val_loss: 184.5520 - val_model_1_loss: 173.3725 - val_model_1_1_loss: 1.3852\n",
            "Epoch 34/100\n",
            "60/60 [==============================] - 6s 93ms/step - loss: 185.0069 - model_1_loss: 173.6179 - model_1_1_loss: 1.3908 - val_loss: 184.1369 - val_model_1_loss: 172.6013 - val_model_1_1_loss: 1.3766\n",
            "Epoch 35/100\n",
            "60/60 [==============================] - 5s 91ms/step - loss: 184.3979 - model_1_loss: 172.8085 - model_1_1_loss: 1.3850 - val_loss: 183.6025 - val_model_1_loss: 171.9264 - val_model_1_1_loss: 1.3784\n",
            "Epoch 36/100\n",
            "60/60 [==============================] - 6s 93ms/step - loss: 183.8455 - model_1_loss: 172.0665 - model_1_1_loss: 1.3768 - val_loss: 183.0829 - val_model_1_loss: 171.2625 - val_model_1_1_loss: 1.3592\n",
            "Epoch 37/100\n",
            "60/60 [==============================] - 6s 94ms/step - loss: 183.2208 - model_1_loss: 171.2893 - model_1_1_loss: 1.3665 - val_loss: 182.5251 - val_model_1_loss: 170.4381 - val_model_1_1_loss: 1.3458\n",
            "Epoch 38/100\n",
            "60/60 [==============================] - 6s 94ms/step - loss: 182.7415 - model_1_loss: 170.6266 - model_1_1_loss: 1.3578 - val_loss: 182.1664 - val_model_1_loss: 170.0859 - val_model_1_1_loss: 1.3715\n",
            "Epoch 39/100\n",
            "60/60 [==============================] - 5s 91ms/step - loss: 182.2466 - model_1_loss: 170.0195 - model_1_1_loss: 1.3535 - val_loss: 181.6599 - val_model_1_loss: 169.3084 - val_model_1_1_loss: 1.3503\n",
            "Epoch 40/100\n",
            "60/60 [==============================] - 6s 92ms/step - loss: 181.7544 - model_1_loss: 169.4268 - model_1_1_loss: 1.3484 - val_loss: 181.3044 - val_model_1_loss: 168.8445 - val_model_1_1_loss: 1.3470\n",
            "Epoch 41/100\n",
            "60/60 [==============================] - 5s 89ms/step - loss: 181.3693 - model_1_loss: 168.8808 - model_1_1_loss: 1.3388 - val_loss: 180.9682 - val_model_1_loss: 168.5395 - val_model_1_1_loss: 1.3356\n",
            "Epoch 42/100\n",
            "60/60 [==============================] - 6s 93ms/step - loss: 180.9647 - model_1_loss: 168.4074 - model_1_1_loss: 1.3397 - val_loss: 180.7881 - val_model_1_loss: 168.3781 - val_model_1_1_loss: 1.3473\n",
            "Epoch 43/100\n",
            "60/60 [==============================] - 6s 97ms/step - loss: 180.6756 - model_1_loss: 168.0066 - model_1_1_loss: 1.3324 - val_loss: 180.4756 - val_model_1_loss: 167.8979 - val_model_1_1_loss: 1.3303\n",
            "Epoch 44/100\n",
            "60/60 [==============================] - 5s 90ms/step - loss: 180.3018 - model_1_loss: 167.5565 - model_1_1_loss: 1.3271 - val_loss: 180.2558 - val_model_1_loss: 167.6109 - val_model_1_1_loss: 1.3380\n",
            "Epoch 45/100\n",
            "60/60 [==============================] - 6s 93ms/step - loss: 180.0133 - model_1_loss: 167.1875 - model_1_1_loss: 1.3176 - val_loss: 179.7836 - val_model_1_loss: 166.8296 - val_model_1_1_loss: 1.3215\n",
            "Epoch 46/100\n",
            "60/60 [==============================] - 6s 94ms/step - loss: 179.6410 - model_1_loss: 166.7175 - model_1_1_loss: 1.3155 - val_loss: 179.5458 - val_model_1_loss: 166.5680 - val_model_1_1_loss: 1.3251\n",
            "Epoch 47/100\n",
            "60/60 [==============================] - 6s 92ms/step - loss: 179.3454 - model_1_loss: 166.3595 - model_1_1_loss: 1.3108 - val_loss: 179.2616 - val_model_1_loss: 166.3459 - val_model_1_1_loss: 1.3148\n",
            "Epoch 48/100\n",
            "60/60 [==============================] - 5s 90ms/step - loss: 179.0796 - model_1_loss: 166.0040 - model_1_1_loss: 1.3037 - val_loss: 179.1496 - val_model_1_loss: 166.1322 - val_model_1_1_loss: 1.3068\n",
            "Epoch 49/100\n",
            "60/60 [==============================] - 5s 89ms/step - loss: 178.8512 - model_1_loss: 165.7070 - model_1_1_loss: 1.2963 - val_loss: 178.8775 - val_model_1_loss: 165.7041 - val_model_1_1_loss: 1.3032\n",
            "Epoch 50/100\n",
            "60/60 [==============================] - 6s 93ms/step - loss: 178.5647 - model_1_loss: 165.3274 - model_1_1_loss: 1.2884 - val_loss: 178.6049 - val_model_1_loss: 165.4515 - val_model_1_1_loss: 1.2826\n",
            "Epoch 51/100\n",
            "60/60 [==============================] - 6s 95ms/step - loss: 178.3482 - model_1_loss: 165.0546 - model_1_1_loss: 1.2809 - val_loss: 178.4288 - val_model_1_loss: 165.1507 - val_model_1_1_loss: 1.2823\n",
            "Epoch 52/100\n",
            "60/60 [==============================] - 5s 91ms/step - loss: 178.1747 - model_1_loss: 164.8000 - model_1_1_loss: 1.2728 - val_loss: 178.1183 - val_model_1_loss: 164.7758 - val_model_1_1_loss: 1.2719\n",
            "Epoch 53/100\n",
            "60/60 [==============================] - 5s 91ms/step - loss: 177.9106 - model_1_loss: 164.4595 - model_1_1_loss: 1.2634 - val_loss: 177.8829 - val_model_1_loss: 164.5099 - val_model_1_1_loss: 1.2543\n",
            "Epoch 54/100\n",
            "60/60 [==============================] - 5s 91ms/step - loss: 177.6623 - model_1_loss: 164.1706 - model_1_1_loss: 1.2566 - val_loss: 177.7290 - val_model_1_loss: 164.3739 - val_model_1_1_loss: 1.2617\n",
            "Epoch 55/100\n",
            "60/60 [==============================] - 6s 95ms/step - loss: 177.4830 - model_1_loss: 163.9122 - model_1_1_loss: 1.2512 - val_loss: 177.7530 - val_model_1_loss: 164.1785 - val_model_1_1_loss: 1.2587\n",
            "Epoch 56/100\n",
            "60/60 [==============================] - 6s 92ms/step - loss: 177.2445 - model_1_loss: 163.5758 - model_1_1_loss: 1.2447 - val_loss: 177.2819 - val_model_1_loss: 163.6982 - val_model_1_1_loss: 1.2523\n",
            "Epoch 57/100\n",
            "60/60 [==============================] - 6s 93ms/step - loss: 177.0119 - model_1_loss: 163.2779 - model_1_1_loss: 1.2323 - val_loss: 177.0545 - val_model_1_loss: 163.4201 - val_model_1_1_loss: 1.2340\n",
            "Epoch 58/100\n",
            "60/60 [==============================] - 6s 93ms/step - loss: 176.8043 - model_1_loss: 162.9984 - model_1_1_loss: 1.2232 - val_loss: 176.9979 - val_model_1_loss: 163.2706 - val_model_1_1_loss: 1.2207\n",
            "Epoch 59/100\n",
            "60/60 [==============================] - 6s 93ms/step - loss: 176.5503 - model_1_loss: 162.6756 - model_1_1_loss: 1.2087 - val_loss: 176.6248 - val_model_1_loss: 162.8526 - val_model_1_1_loss: 1.2170\n",
            "Epoch 60/100\n",
            "60/60 [==============================] - 6s 93ms/step - loss: 176.3514 - model_1_loss: 162.4048 - model_1_1_loss: 1.2000 - val_loss: 176.5676 - val_model_1_loss: 162.8338 - val_model_1_1_loss: 1.2032\n",
            "Epoch 61/100\n",
            "60/60 [==============================] - 6s 92ms/step - loss: 176.1238 - model_1_loss: 162.1189 - model_1_1_loss: 1.1888 - val_loss: 176.2594 - val_model_1_loss: 162.2746 - val_model_1_1_loss: 1.1856\n",
            "Epoch 62/100\n",
            "60/60 [==============================] - 5s 91ms/step - loss: 175.8871 - model_1_loss: 161.7663 - model_1_1_loss: 1.1794 - val_loss: 175.8992 - val_model_1_loss: 161.8811 - val_model_1_1_loss: 1.1735\n",
            "Epoch 63/100\n",
            "60/60 [==============================] - 6s 94ms/step - loss: 175.6547 - model_1_loss: 161.4839 - model_1_1_loss: 1.1685 - val_loss: 175.6729 - val_model_1_loss: 161.6522 - val_model_1_1_loss: 1.1680\n",
            "Epoch 64/100\n",
            "60/60 [==============================] - 6s 93ms/step - loss: 175.3809 - model_1_loss: 161.1562 - model_1_1_loss: 1.1543 - val_loss: 175.4774 - val_model_1_loss: 161.3642 - val_model_1_1_loss: 1.1567\n",
            "Epoch 65/100\n",
            "60/60 [==============================] - 6s 93ms/step - loss: 175.1477 - model_1_loss: 160.8293 - model_1_1_loss: 1.1439 - val_loss: 175.2307 - val_model_1_loss: 160.9467 - val_model_1_1_loss: 1.1428\n",
            "Epoch 66/100\n",
            "60/60 [==============================] - 6s 96ms/step - loss: 174.8702 - model_1_loss: 160.4746 - model_1_1_loss: 1.1298 - val_loss: 175.0260 - val_model_1_loss: 160.7212 - val_model_1_1_loss: 1.1355\n",
            "Epoch 67/100\n",
            "60/60 [==============================] - 5s 91ms/step - loss: 174.6605 - model_1_loss: 160.1841 - model_1_1_loss: 1.1176 - val_loss: 174.6050 - val_model_1_loss: 160.2202 - val_model_1_1_loss: 1.1239\n",
            "Epoch 68/100\n",
            "60/60 [==============================] - 5s 91ms/step - loss: 174.4649 - model_1_loss: 159.9118 - model_1_1_loss: 1.1016 - val_loss: 174.5487 - val_model_1_loss: 160.1189 - val_model_1_1_loss: 1.0986\n",
            "Epoch 69/100\n",
            "60/60 [==============================] - 6s 94ms/step - loss: 174.1709 - model_1_loss: 159.5623 - model_1_1_loss: 1.0876 - val_loss: 174.3134 - val_model_1_loss: 159.9240 - val_model_1_1_loss: 1.0894\n",
            "Epoch 70/100\n",
            "60/60 [==============================] - 6s 95ms/step - loss: 173.9329 - model_1_loss: 159.2488 - model_1_1_loss: 1.0731 - val_loss: 173.9540 - val_model_1_loss: 159.2661 - val_model_1_1_loss: 1.0716\n",
            "Epoch 71/100\n",
            "60/60 [==============================] - 6s 92ms/step - loss: 173.6643 - model_1_loss: 158.9279 - model_1_1_loss: 1.0580 - val_loss: 173.7063 - val_model_1_loss: 159.0647 - val_model_1_1_loss: 1.0545\n",
            "Epoch 72/100\n",
            "60/60 [==============================] - 5s 91ms/step - loss: 173.4427 - model_1_loss: 158.6360 - model_1_1_loss: 1.0466 - val_loss: 173.6065 - val_model_1_loss: 158.8503 - val_model_1_1_loss: 1.0382\n",
            "Epoch 73/100\n",
            "60/60 [==============================] - 6s 92ms/step - loss: 173.1819 - model_1_loss: 158.2995 - model_1_1_loss: 1.0327 - val_loss: 173.2548 - val_model_1_loss: 158.5124 - val_model_1_1_loss: 1.0396\n",
            "Epoch 74/100\n",
            "60/60 [==============================] - 6s 93ms/step - loss: 173.0569 - model_1_loss: 158.1133 - model_1_1_loss: 1.0274 - val_loss: 173.1304 - val_model_1_loss: 158.3040 - val_model_1_1_loss: 1.0292\n",
            "Epoch 75/100\n",
            "60/60 [==============================] - 6s 93ms/step - loss: 172.8790 - model_1_loss: 157.9314 - model_1_1_loss: 1.0137 - val_loss: 172.9650 - val_model_1_loss: 157.9582 - val_model_1_1_loss: 1.0142\n",
            "Epoch 76/100\n",
            "60/60 [==============================] - 6s 92ms/step - loss: 172.6837 - model_1_loss: 157.6539 - model_1_1_loss: 1.0002 - val_loss: 173.0303 - val_model_1_loss: 158.1409 - val_model_1_1_loss: 1.0085\n",
            "Epoch 77/100\n",
            "60/60 [==============================] - 5s 89ms/step - loss: 172.5588 - model_1_loss: 157.4553 - model_1_1_loss: 0.9917 - val_loss: 172.5580 - val_model_1_loss: 157.6369 - val_model_1_1_loss: 0.9940\n",
            "Epoch 78/100\n",
            "60/60 [==============================] - 6s 93ms/step - loss: 172.3863 - model_1_loss: 157.2456 - model_1_1_loss: 0.9831 - val_loss: 172.5458 - val_model_1_loss: 157.4121 - val_model_1_1_loss: 0.9801\n",
            "Epoch 79/100\n",
            "60/60 [==============================] - 5s 90ms/step - loss: 172.2472 - model_1_loss: 157.0669 - model_1_1_loss: 0.9726 - val_loss: 172.3353 - val_model_1_loss: 157.2572 - val_model_1_1_loss: 0.9679\n",
            "Epoch 80/100\n",
            "60/60 [==============================] - 6s 92ms/step - loss: 172.0776 - model_1_loss: 156.8375 - model_1_1_loss: 0.9639 - val_loss: 172.1994 - val_model_1_loss: 157.0949 - val_model_1_1_loss: 0.9597\n",
            "Epoch 81/100\n",
            "60/60 [==============================] - 5s 90ms/step - loss: 171.9261 - model_1_loss: 156.6492 - model_1_1_loss: 0.9559 - val_loss: 172.1604 - val_model_1_loss: 157.0979 - val_model_1_1_loss: 0.9606\n",
            "Epoch 82/100\n",
            "60/60 [==============================] - 6s 93ms/step - loss: 171.8388 - model_1_loss: 156.5383 - model_1_1_loss: 0.9477 - val_loss: 172.1332 - val_model_1_loss: 156.9884 - val_model_1_1_loss: 0.9440\n",
            "Epoch 83/100\n",
            "60/60 [==============================] - 6s 92ms/step - loss: 171.7231 - model_1_loss: 156.3824 - model_1_1_loss: 0.9402 - val_loss: 171.9111 - val_model_1_loss: 156.7745 - val_model_1_1_loss: 0.9397\n",
            "Epoch 84/100\n",
            "60/60 [==============================] - 5s 87ms/step - loss: 171.5882 - model_1_loss: 156.2012 - model_1_1_loss: 0.9315 - val_loss: 171.6236 - val_model_1_loss: 156.3476 - val_model_1_1_loss: 0.9256\n",
            "Epoch 85/100\n",
            "60/60 [==============================] - 6s 93ms/step - loss: 171.4842 - model_1_loss: 156.0545 - model_1_1_loss: 0.9238 - val_loss: 171.5543 - val_model_1_loss: 156.2782 - val_model_1_1_loss: 0.9158\n",
            "Epoch 86/100\n",
            "60/60 [==============================] - 6s 94ms/step - loss: 171.3702 - model_1_loss: 155.8908 - model_1_1_loss: 0.9167 - val_loss: 171.3930 - val_model_1_loss: 156.2087 - val_model_1_1_loss: 0.9255\n",
            "Epoch 87/100\n",
            "60/60 [==============================] - 6s 94ms/step - loss: 171.3399 - model_1_loss: 155.8235 - model_1_1_loss: 0.9116 - val_loss: 171.2947 - val_model_1_loss: 155.8770 - val_model_1_1_loss: 0.9119\n",
            "Epoch 88/100\n",
            "60/60 [==============================] - 6s 95ms/step - loss: 171.2075 - model_1_loss: 155.6535 - model_1_1_loss: 0.9055 - val_loss: 171.1426 - val_model_1_loss: 155.8618 - val_model_1_1_loss: 0.9054\n",
            "Epoch 89/100\n",
            "60/60 [==============================] - 5s 90ms/step - loss: 171.0708 - model_1_loss: 155.5150 - model_1_1_loss: 0.8981 - val_loss: 171.1851 - val_model_1_loss: 155.8759 - val_model_1_1_loss: 0.9064\n",
            "Epoch 90/100\n",
            "60/60 [==============================] - 6s 95ms/step - loss: 170.9831 - model_1_loss: 155.3905 - model_1_1_loss: 0.8930 - val_loss: 171.0138 - val_model_1_loss: 155.5917 - val_model_1_1_loss: 0.8873\n",
            "Epoch 91/100\n",
            "60/60 [==============================] - 5s 91ms/step - loss: 170.9070 - model_1_loss: 155.2886 - model_1_1_loss: 0.8866 - val_loss: 170.9365 - val_model_1_loss: 155.5695 - val_model_1_1_loss: 0.8900\n",
            "Epoch 92/100\n",
            "60/60 [==============================] - 6s 93ms/step - loss: 170.7696 - model_1_loss: 155.1301 - model_1_1_loss: 0.8804 - val_loss: 170.8802 - val_model_1_loss: 155.3501 - val_model_1_1_loss: 0.8731\n",
            "Epoch 93/100\n",
            "60/60 [==============================] - 6s 93ms/step - loss: 170.7114 - model_1_loss: 154.9973 - model_1_1_loss: 0.8760 - val_loss: 170.7869 - val_model_1_loss: 155.1082 - val_model_1_1_loss: 0.8681\n",
            "Epoch 94/100\n",
            "60/60 [==============================] - 5s 92ms/step - loss: 170.5156 - model_1_loss: 154.7511 - model_1_1_loss: 0.8679 - val_loss: 170.6394 - val_model_1_loss: 155.1480 - val_model_1_1_loss: 0.8713\n",
            "Epoch 95/100\n",
            "60/60 [==============================] - 5s 89ms/step - loss: 170.4859 - model_1_loss: 154.7414 - model_1_1_loss: 0.8630 - val_loss: 170.4872 - val_model_1_loss: 154.9449 - val_model_1_1_loss: 0.8651\n",
            "Epoch 96/100\n",
            "60/60 [==============================] - 6s 94ms/step - loss: 170.3769 - model_1_loss: 154.5694 - model_1_1_loss: 0.8567 - val_loss: 170.4166 - val_model_1_loss: 154.6768 - val_model_1_1_loss: 0.8553\n",
            "Epoch 97/100\n",
            "60/60 [==============================] - 6s 93ms/step - loss: 170.2539 - model_1_loss: 154.4173 - model_1_1_loss: 0.8531 - val_loss: 170.2701 - val_model_1_loss: 154.5717 - val_model_1_1_loss: 0.8480\n",
            "Epoch 98/100\n",
            "60/60 [==============================] - 6s 92ms/step - loss: 170.1059 - model_1_loss: 154.2840 - model_1_1_loss: 0.8497 - val_loss: 170.2364 - val_model_1_loss: 154.5889 - val_model_1_1_loss: 0.8396\n",
            "Epoch 99/100\n",
            "60/60 [==============================] - 6s 94ms/step - loss: 170.0666 - model_1_loss: 154.2034 - model_1_1_loss: 0.8438 - val_loss: 170.0738 - val_model_1_loss: 154.3457 - val_model_1_1_loss: 0.8423\n",
            "Epoch 100/100\n",
            "60/60 [==============================] - 6s 96ms/step - loss: 169.9291 - model_1_loss: 154.0018 - model_1_1_loss: 0.8357 - val_loss: 169.9429 - val_model_1_loss: 154.1297 - val_model_1_1_loss: 0.8333\n"
          ],
          "name": "stdout"
        }
      ]
    },
    {
      "cell_type": "code",
      "metadata": {
        "id": "AlwBhiR_vl27",
        "colab_type": "code",
        "colab": {
          "base_uri": "https://localhost:8080/",
          "height": 390
        },
        "outputId": "2fcd82bf-aed0-452f-9c91-ca1dc4d04b18"
      },
      "source": [
        "from itertools import groupby\n",
        "key = lambda x: x[0][0] == 'v' and x[0][4:] or x[0]\n",
        "s = sorted(res.history.items(), key=key)\n",
        "points = groupby(s, key)\n",
        "f, axs = plt.subplots(1, 3, figsize=(18,6)\n",
        "                      )\n",
        "for (g, history), ax in zip(points, axs):\n",
        "  for k, v in history:\n",
        "    ax.plot(*zip(*enumerate(np.exp(np.array([0]) - v))), label=k)\n",
        "  ax.legend(loc='upper right')\n",
        "  ax.set_title(g)\n",
        "plt.show()"
      ],
      "execution_count": 9,
      "outputs": [
        {
          "output_type": "display_data",
          "data": {
            "image/png": "[encoded data removed]",
            "text/plain": [
              "<Figure size 1296x432 with 3 Axes>"
            ]
          },
          "metadata": {
            "tags": []
          }
        }
      ]
    },
    {
      "cell_type": "markdown",
      "metadata": {
        "id": "ks00t8iUPMGG",
        "colab_type": "text"
      },
      "source": [
        "p(x , y | z) => p(x | z , y)\n",
        "\n",
        "p(a|b)p(b) = p(b|a)p(a) = p(a,b)\n",
        "\n",
        "p(x|z,y) = p(x,y|z) / p(y|z)"
      ]
    },
    {
      "cell_type": "code",
      "metadata": {
        "id": "GHfqUBU1cYUA",
        "colab_type": "code",
        "colab": {
          "base_uri": "https://localhost:8080/",
          "height": 399
        },
        "outputId": "33b09be6-f497-41a0-beb7-c4032fd26e20"
      },
      "source": [
        "list(map(lambda x: x.shape, m.weights))"
      ],
      "execution_count": 10,
      "outputs": [
        {
          "output_type": "execute_result",
          "data": {
            "text/plain": [
              "[TensorShape([784, 40]),\n",
              " TensorShape([40]),\n",
              " TensorShape([40, 20]),\n",
              " TensorShape([20]),\n",
              " TensorShape([20, 10]),\n",
              " TensorShape([10]),\n",
              " TensorShape([20, 10]),\n",
              " TensorShape([10]),\n",
              " TensorShape([10, 65]),\n",
              " TensorShape([65]),\n",
              " TensorShape([10, 10]),\n",
              " TensorShape([10]),\n",
              " TensorShape([10, 20]),\n",
              " TensorShape([20]),\n",
              " TensorShape([20, 40]),\n",
              " TensorShape([40]),\n",
              " TensorShape([40, 784]),\n",
              " TensorShape([784]),\n",
              " TensorShape([10, 10]),\n",
              " TensorShape([10]),\n",
              " TensorShape([10, 10]),\n",
              " TensorShape([10])]"
            ]
          },
          "metadata": {
            "tags": []
          },
          "execution_count": 10
        }
      ]
    },
    {
      "cell_type": "code",
      "metadata": {
        "id": "_eDrmSW19-h6",
        "colab_type": "code",
        "colab": {
          "base_uri": "https://localhost:8080/",
          "height": 173
        },
        "outputId": "4d8b841c-33a6-4abc-fe86-76330c291b43"
      },
      "source": [
        "m.encoder.layers"
      ],
      "execution_count": 11,
      "outputs": [
        {
          "output_type": "execute_result",
          "data": {
            "text/plain": [
              "[<tensorflow.python.keras.engine.input_layer.InputLayer at 0x7f27e4558eb8>,\n",
              " <tensorflow.python.keras.layers.core.Lambda at 0x7f27e40dc0f0>,\n",
              " <tensorflow.python.keras.layers.core.Flatten at 0x7f27e40c6128>,\n",
              " <tensorflow.python.keras.layers.core.Dense at 0x7f27f308ec88>,\n",
              " <tensorflow.python.keras.layers.core.Dense at 0x7f27f3040ac8>,\n",
              " <tensorflow.python.keras.layers.core.Dense at 0x7f27e4095748>,\n",
              " <tensorflow.python.keras.engine.input_layer.InputLayer at 0x7f27e4095b00>,\n",
              " <tensorflow.python.keras.layers.merge.Concatenate at 0x7f27e403d550>,\n",
              " <tensorflow.python.keras.engine.sequential.Sequential at 0x7f27e4048780>]"
            ]
          },
          "metadata": {
            "tags": []
          },
          "execution_count": 11
        }
      ]
    },
    {
      "cell_type": "code",
      "metadata": {
        "id": "gjzSRuk-2wr0",
        "colab_type": "code",
        "colab": {
          "base_uri": "https://localhost:8080/",
          "height": 796
        },
        "outputId": "74c85955-7819-40fe-a368-46e108baae9f"
      },
      "source": [
        "img0 = np.zeros([1,28,28,1])\n",
        "img1 = next(iter(test_ds))[0][0][3:4]\n",
        "plt.imshow(img1[0,:,:,0], cmap='gray')\n",
        "plt.show()\n",
        "lbl2 = np.eye(10)[np.array([7])]\n",
        "lbl0 = np.zeros([1,10])\n",
        "x = m.encoder((img0,lbl2))\n",
        "print(x.mean())\n",
        "print(x.stddev())\n",
        "img, lbl = m.decoder(x)\n",
        "plt.bar(range(10), lbl.mean()[0])\n",
        "plt.show()\n",
        "plt.imshow(img.mean()[0,:,:,0], cmap='gray')\n",
        "plt.show()"
      ],
      "execution_count": 26,
      "outputs": [
        {
          "output_type": "display_data",
          "data": {
            "image/png": "[encoded data removed]",
            "text/plain": [
              "<Figure size 432x288 with 1 Axes>"
            ]
          },
          "metadata": {
            "tags": []
          }
        },
        {
          "output_type": "stream",
          "text": [
            "tf.Tensor([[-0.69 -0.01 -0.37  0.54  0.59 -0.43  0.39  0.39  0.46 -0.48]], shape=(1, 10), dtype=float32)\n",
            "tf.Tensor([[0.9  0.56 0.86 0.94 0.9  0.97 0.96 0.98 0.94 0.97]], shape=(1, 10), dtype=float32)\n"
          ],
          "name": "stdout"
        },
        {
          "output_type": "display_data",
          "data": {
            "image/png": "[encoded data removed]",
            "text/plain": [
              "<Figure size 432x288 with 1 Axes>"
            ]
          },
          "metadata": {
            "tags": []
          }
        },
        {
          "output_type": "display_data",
          "data": {
            "image/png": "[encoded data removed]",
            "text/plain": [
              "<Figure size 432x288 with 1 Axes>"
            ]
          },
          "metadata": {
            "tags": []
          }
        }
      ]
    },
    {
      "cell_type": "code",
      "metadata": {
        "id": "RJVnz6Lf8M-N",
        "colab_type": "code",
        "colab": {
          "base_uri": "https://localhost:8080/",
          "height": 86
        },
        "outputId": "73cc0266-f840-4b4d-8360-2861bd3cca79"
      },
      "source": [
        "np.set_printoptions(precision=2,suppress=True)\n",
        "adhoc = tf.keras.Model(inputs=m.encoder.input, outputs=m.encoder.layers[7].output)\n",
        "adhoc((next(iter(test_ds))[0][0][3:4], lbl2))"
      ],
      "execution_count": 20,
      "outputs": [
        {
          "output_type": "execute_result",
          "data": {
            "text/plain": [
              "<tf.Tensor: shape=(1, 20), dtype=float32, numpy=\n",
              "array([[0.1 , 0.33, 0.15, 0.  , 0.09, 0.  , 0.04, 0.19, 0.07, 0.02, 1.  ,\n",
              "        0.  , 0.  , 0.  , 0.  , 0.  , 0.  , 0.  , 0.  , 0.  ]],\n",
              "      dtype=float32)>"
            ]
          },
          "metadata": {
            "tags": []
          },
          "execution_count": 20
        }
      ]
    },
    {
      "cell_type": "code",
      "metadata": {
        "id": "KTgFEUKUz8CU",
        "colab_type": "code",
        "colab": {}
      },
      "source": [
        "def generate_and_save_images(model, epoch, test_input):\n",
        "  predictions = model.sample(test_input)\n",
        "  fig = plt.figure(figsize=(4,4))\n",
        "\n",
        "  for i in range(predictions.shape[0]):\n",
        "      plt.subplot(4, 4, i+1)\n",
        "      plt.imshow(predictions[i, :, :, 0], cmap='gray')\n",
        "      plt.axis('off')\n",
        "\n",
        "  # tight_layout minimizes the overlap between 2 sub-plots\n",
        "  plt.savefig('image_at_epoch_{:04d}.png'.format(epoch))\n",
        "  plt.show()\n"
      ],
      "execution_count": 0,
      "outputs": []
    }
  ]
}